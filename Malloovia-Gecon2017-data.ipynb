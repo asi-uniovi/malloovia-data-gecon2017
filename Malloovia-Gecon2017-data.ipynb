{
 "cells": [
  {
   "cell_type": "markdown",
   "metadata": {
    "ExecuteTime": {
     "end_time": "2017-09-14T12:34:46.508413",
     "start_time": "2017-09-14T12:34:46.504501"
    }
   },
   "source": [
    "# Malloovia - Data for GECON 2017\n",
    "\n",
    "This notebook shows how to obtain the data in the paper \"Cost Minimization of Virtual Machine Allocation in Public Clouds Considering Multiple Applications\" presented in [GECON2017](http://2017.gecon-conference.org/).\n",
    "\n",
    "In order to run this notebook, you will need to install [Malloovia](https://github.com/asi-uniovi/malloovia). See the [installation section](https://malloovia.readthedocs.io/en/latest/install.html) in the documentation.\n",
    "\n",
    "The data consists of three data sets, each one in its own directory:\n",
    "\n",
    "- **problems**: the problems with the workload and the infrastructure.\n",
    "- **sol_phase_i**: the solutions for Phase I.\n",
    "- **sol_phase_ii**: the solutions for Phase II.\n",
    "\n",
    "In each data set, there is a file for each quantization amount, as shown in table 2 in the paper. The files are distributed following a [YAML format defined in Malloovia](https://malloovia.readthedocs.io/en/latest/yaml.html).\n",
    "\n",
    "Notice that if you run all the cells in this notebook, you will overwrite the solutions and the results (such as the time to solve that is part of the statistics) will change."
   ]
  },
  {
   "cell_type": "code",
   "execution_count": 1,
   "metadata": {
    "ExecuteTime": {
     "end_time": "2017-10-02T15:56:37.320020",
     "start_time": "2017-10-02T15:56:36.804372"
    },
    "collapsed": false
   },
   "outputs": [],
   "source": [
    "import matplotlib\n",
    "import matplotlib.pyplot as plt\n",
    "plt.style.use(\"bmh\")\n",
    "%matplotlib inline\n",
    "from IPython.display import display, HTML\n",
    "from ipywidgets import FloatProgress\n",
    "import pulp\n",
    "\n",
    "import malloovia"
   ]
  },
  {
   "cell_type": "markdown",
   "metadata": {},
   "source": [
    "# Loading data"
   ]
  },
  {
   "cell_type": "code",
   "execution_count": 2,
   "metadata": {
    "ExecuteTime": {
     "end_time": "2017-10-02T13:26:29.341074",
     "start_time": "2017-10-02T13:26:23.512681"
    },
    "collapsed": false
   },
   "outputs": [],
   "source": [
    "filenames = ['p0_gcd_increments_None.yaml',\n",
    "             'p1_gcd_increments_1.yaml',\n",
    "             'p2_gcd_increments_3.yaml',\n",
    "             'p3_gcd_increments_5.yaml',\n",
    "             'p4_gcd_increments_7.yaml',\n",
    "             'p5_gcd_increments_10.yaml',\n",
    "             'p6_gcd_increments_15.yaml']\n",
    "\n",
    "experiments = {} # One per quantization amount\n",
    "for filename in filenames:\n",
    "    q_amount = int(filename[1])\n",
    "    experiments[q_amount] = malloovia.read_problems_from_yaml(\n",
    "        'problems/' + filename)"
   ]
  },
  {
   "cell_type": "markdown",
   "metadata": {},
   "source": [
    "# Solution\n",
    "## Phase I"
   ]
  },
  {
   "cell_type": "code",
   "execution_count": 3,
   "metadata": {
    "ExecuteTime": {
     "end_time": "2017-10-02T13:29:14.333043",
     "start_time": "2017-10-02T13:26:29.341074"
    },
    "collapsed": false
   },
   "outputs": [],
   "source": [
    "f = FloatProgress(min=0, max=len(experiments)-1)\n",
    "display(f)\n",
    "\n",
    "phase_i_solutions = {}\n",
    "for i, exp in experiments.items():\n",
    "    f.description = 'Solving phase I for quantization amount ' + str(i)\n",
    "    solver = pulp.COIN(maxSeconds=20*60, msg=1, fracGap=0.01)\n",
    "    phase_i_solutions[i] = malloovia.PhaseI(exp['Problem0']).solve(solver=solver)\n",
    "    f.value += 1"
   ]
  },
  {
   "cell_type": "markdown",
   "metadata": {},
   "source": [
    "Notice that the next cell will overwrite the solution files provided."
   ]
  },
  {
   "cell_type": "code",
   "execution_count": 4,
   "metadata": {
    "ExecuteTime": {
     "end_time": "2017-10-02T13:29:14.473671",
     "start_time": "2017-10-02T13:29:14.333043"
    },
    "collapsed": false,
    "scrolled": true
   },
   "outputs": [],
   "source": [
    "for q_amount, sol in phase_i_solutions.items():\n",
    "    s_yaml = malloovia.util.solutions_to_yaml([sol])\n",
    "    filename = 'sol_phase_i/p{}_phase_i_solution.yaml'.format(q_amount)\n",
    "    with open(filename, 'w') as f:\n",
    "        f.write(s_yaml)"
   ]
  },
  {
   "cell_type": "markdown",
   "metadata": {
    "ExecuteTime": {
     "end_time": "2017-09-26T17:48:38.149428",
     "start_time": "2017-09-26T17:48:38.133802"
    }
   },
   "source": [
    "## Phase II"
   ]
  },
  {
   "cell_type": "code",
   "execution_count": 5,
   "metadata": {
    "ExecuteTime": {
     "end_time": "2017-10-02T13:40:30.848548",
     "start_time": "2017-10-02T13:29:14.473671"
    },
    "collapsed": false
   },
   "outputs": [],
   "source": [
    "f = FloatProgress(min=0, max=len(experiments)-1)\n",
    "display(f)\n",
    "\n",
    "phase_ii_solutions = {}\n",
    "for i, exp in experiments.items():\n",
    "    f.description = 'Solving phase II for quantization amount ' + str(i)\n",
    "    phase_ii = malloovia.PhaseII(\n",
    "        problem = exp['Problem1'],\n",
    "        phase_i_solution = phase_i_solutions[i],\n",
    "        reuse_rsv = True)\n",
    "    phase_ii_solutions[i] = phase_ii.solve_period()\n",
    "    f.value += 1"
   ]
  },
  {
   "cell_type": "markdown",
   "metadata": {},
   "source": [
    "Notice that the next cell will overwrite the solution files provided."
   ]
  },
  {
   "cell_type": "code",
   "execution_count": 6,
   "metadata": {
    "ExecuteTime": {
     "end_time": "2017-10-02T13:40:34.661223",
     "start_time": "2017-10-02T13:40:30.848548"
    },
    "collapsed": false
   },
   "outputs": [],
   "source": [
    "for q_amount, sol in phase_ii_solutions.items():\n",
    "    sol_yaml = malloovia.util.solutions_to_yaml([sol])\n",
    "    \n",
    "    filename = 'sol_phase_ii/p{}_phase_ii_solution.yaml'.format(q_amount)\n",
    "    with open(filename, 'w') as f:\n",
    "        f.write(sol_yaml)"
   ]
  }
 ],
 "metadata": {
  "hide_input": false,
  "kernelspec": {
   "display_name": "Python 3",
   "language": "python",
   "name": "python3"
  },
  "language_info": {
   "codemirror_mode": {
    "name": "ipython",
    "version": 3
   },
   "file_extension": ".py",
   "mimetype": "text/x-python",
   "name": "python",
   "nbconvert_exporter": "python",
   "pygments_lexer": "ipython3",
   "version": "3.5.3"
  },
  "toc": {
   "toc_cell": false,
   "toc_number_sections": true,
   "toc_threshold": 6,
   "toc_window_display": false
  }
 },
 "nbformat": 4,
 "nbformat_minor": 0
}
